{
  "nbformat": 4,
  "nbformat_minor": 0,
  "metadata": {
    "colab": {
      "provenance": [],
      "authorship_tag": "ABX9TyNfP87omSDQwXRQMFCV9gu5",
      "include_colab_link": true
    },
    "kernelspec": {
      "name": "python3",
      "display_name": "Python 3"
    },
    "language_info": {
      "name": "python"
    }
  },
  "cells": [
    {
      "cell_type": "markdown",
      "metadata": {
        "id": "view-in-github",
        "colab_type": "text"
      },
      "source": [
        "<a href=\"https://colab.research.google.com/github/KristiyanaYaSt/Machine-learning-HW/blob/main/JupyterNotebookDemo.ipynb\" target=\"_parent\"><img src=\"https://colab.research.google.com/assets/colab-badge.svg\" alt=\"Open In Colab\"/></a>"
      ]
    },
    {
      "cell_type": "markdown",
      "source": [
        "#  Jupyter Notebook Demo"
      ],
      "metadata": {
        "id": "6ZZwbld-RTs3"
      }
    },
    {
      "cell_type": "markdown",
      "source": [
        "##Keyboards shortcuts"
      ],
      "metadata": {
        "id": "ogImeinXSBZ9"
      }
    },
    {
      "cell_type": "markdown",
      "source": [
        "### Execute cell\n",
        "\n",
        "1.   Alt+Enter: Run cell and incert new cell\n",
        "2.   Shift+Enter: Run cell and select next cell\n",
        "3.   Ctrl+Enter: Run the focused cell\n"
      ],
      "metadata": {
        "id": "i2mp3jZ3WB9T"
      }
    },
    {
      "cell_type": "markdown",
      "source": [
        "## Python Code Demos"
      ],
      "metadata": {
        "id": "kH7hDa5dW2mt"
      }
    },
    {
      "cell_type": "code",
      "source": [
        "import numpy as np\n",
        "import matplotlib.pyplot as plt"
      ],
      "metadata": {
        "id": "Wt-nM6j_W1fs"
      },
      "execution_count": 1,
      "outputs": []
    },
    {
      "cell_type": "code",
      "source": [
        "X  = np.arange (1,10)\n",
        "Y = X**2"
      ],
      "metadata": {
        "id": "DsAowkKDXNOn"
      },
      "execution_count": 4,
      "outputs": []
    },
    {
      "cell_type": "code",
      "source": [
        "print (X)\n",
        "print (Y)"
      ],
      "metadata": {
        "colab": {
          "base_uri": "https://localhost:8080/"
        },
        "id": "3dtCtLDZXeuN",
        "outputId": "6e9f8727-b0ee-4473-91d3-eff263db6c97"
      },
      "execution_count": 5,
      "outputs": [
        {
          "output_type": "stream",
          "name": "stdout",
          "text": [
            "[1 2 3 4 5 6 7 8 9]\n",
            "[ 1  4  9 16 25 36 49 64 81]\n"
          ]
        }
      ]
    }
  ]
}